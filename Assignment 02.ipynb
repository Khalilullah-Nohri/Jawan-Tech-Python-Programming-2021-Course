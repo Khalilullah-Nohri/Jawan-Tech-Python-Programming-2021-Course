{
 "cells": [
  {
   "cell_type": "code",
   "execution_count": 16,
   "metadata": {},
   "outputs": [
    {
     "name": "stdout",
     "output_type": "stream",
     "text": [
      "Number of evens are:  3  and they are:  [2, 2, 4]\n",
      "Number of odds  are:  2  and they are:  [3, 5]\n"
     ]
    }
   ],
   "source": [
    "dictionary={'a':2,'b':2,'c':3,'d':4,'e':5}\n",
    "temp=0\n",
    "temp2=0\n",
    "Evenlist=[]\n",
    "Oddlist=[]\n",
    "for Keys in dictionary:\n",
    "    values=dictionary.get(Keys)\n",
    "    if values%2==0:\n",
    "        temp+=1\n",
    "        Evenlist.append(values)\n",
    "    else:\n",
    "        temp2+=1\n",
    "        Oddlist.append(values)\n",
    "\n",
    "print('Number of evens are: ',temp,' and they are: ',Evenlist)\n",
    "print('Number of odds  are: ',temp2, ' and they are: ' ,Oddlist)\n",
    "# filt_keys=\n",
    "#     print(dictionary.values[2])"
   ]
  },
  {
   "cell_type": "code",
   "execution_count": 2,
   "metadata": {
    "tags": []
   },
   "outputs": [
    {
     "name": "stdout",
     "output_type": "stream",
     "text": [
      "Previous List ...Length... 94 ...\n",
      " ['the', 'video', 'by', 'digital', 'artist', 'beeple,', 'whose', 'real', 'name', 'is', 'mike', 'winkelmann,', 'was', 'authenticated', 'by', 'blockchain,', 'which', 'serves', 'as', 'a', 'digital', 'signature', 'to', 'certify', 'who', 'owns', 'it', 'and', 'that', 'it', 'is', 'the', 'original', 'work.', 'it’s', 'a', 'new', 'type', 'of', 'digital', 'asset', '–', 'known', 'as', 'a', 'non-fungible', 'token', '(nft)', '–', 'that', 'has', 'exploded', 'in', 'popularity', 'during', 'the', 'pandemic', 'as', 'enthusiasts', 'and', 'investors', 'scramble', 'to', 'spend', 'enormous', 'sums', 'of', 'money', 'on', 'items', 'that', 'only', 'exist', 'online.', 'blockchain', 'technology', 'allows', 'the', 'items', 'to', 'be', 'publicly', 'authenticated', 'as', 'one-of-a-kind,', 'unlike', 'traditional', 'online', 'objects', 'which', 'can', 'be', 'endlessly', 'reproduced.'] \n",
      "\n",
      "\n",
      "New List with Unique Words ...Length... 70 ...\n",
      " ['(nft)', 'a', 'allows', 'and', 'artist', 'as', 'asset', 'authenticated', 'be', 'beeple,', 'blockchain', 'blockchain,', 'by', 'can', 'certify', 'digital', 'during', 'endlessly', 'enormous', 'enthusiasts', 'exist', 'exploded', 'has', 'in', 'investors', 'is', 'it', 'items', 'it’s', 'known', 'mike', 'money', 'name', 'new', 'non-fungible', 'objects', 'of', 'on', 'one-of-a-kind,', 'online', 'online.', 'only', 'original', 'owns', 'pandemic', 'popularity', 'publicly', 'real', 'reproduced.', 'scramble', 'serves', 'signature', 'spend', 'sums', 'technology', 'that', 'the', 'to', 'token', 'traditional', 'type', 'unlike', 'video', 'was', 'which', 'who', 'whose', 'winkelmann,', 'work.', '–']\n"
     ]
    }
   ],
   "source": [
    "text = '''\n",
    "The video by digital artist Beeple, whose real name is Mike Winkelmann, was authenticated by\n",
    "blockchain, which serves as a digital signature to certify who owns it and that it is the original work.\n",
    "It’s a new type of digital asset – known as a non-fungible token (NFT) – that has exploded in popularity\n",
    "during the pandemic as enthusiasts and investors scramble to spend enormous sums of money on items\n",
    "that only exist online.\n",
    "Blockchain technology allows the items to be publicly authenticated as one-of-a-kind, unlike traditional\n",
    "online objects which can be endlessly reproduced.\n",
    "'''\n",
    "text=text.lower()\n",
    "List=text.split()\n",
    "NewList=[]\n",
    "Range=len(List)\n",
    "\n",
    "for index in range(Range):\n",
    "    temp=0\n",
    "    for index2 in range(len(NewList)):\n",
    "        if List[index]==NewList[index2]:\n",
    "            temp+=1\n",
    "    if temp==0:\n",
    "        NewList.append(List[index]) \n",
    "print('Previous List','...Length...',len(List),'...\\n',List,'\\n\\n')\n",
    "NewList.sort()\n",
    "print('New List with Unique Words','...Length...',len(NewList),'...\\n',NewList)"
   ]
  }
 ],
 "metadata": {
  "kernelspec": {
   "display_name": "Python 3",
   "language": "python",
   "name": "python3"
  },
  "language_info": {
   "codemirror_mode": {
    "name": "ipython",
    "version": 3
   },
   "file_extension": ".py",
   "mimetype": "text/x-python",
   "name": "python",
   "nbconvert_exporter": "python",
   "pygments_lexer": "ipython3",
   "version": "3.8.5"
  }
 },
 "nbformat": 4,
 "nbformat_minor": 2
}
