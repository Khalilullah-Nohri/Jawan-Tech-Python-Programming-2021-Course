{
 "cells": [
  {
   "cell_type": "markdown",
   "id": "a3e56101",
   "metadata": {},
   "source": [
    "# Question 1"
   ]
  },
  {
   "cell_type": "code",
   "execution_count": 18,
   "id": "f0af2381",
   "metadata": {},
   "outputs": [
    {
     "name": "stdout",
     "output_type": "stream",
     "text": [
      "\t\t\t\t*************Calculator*************\n",
      "Enter 1st number : 6\n",
      "Enter 2nd number : 7\n",
      "\n",
      "Choose the Operation!!!\n",
      "\n",
      "1. + \n",
      "2. - \n",
      "3. * \n",
      "4. / \n",
      "5. ^(power) \n",
      "6. Any Character for exit\n",
      "\n",
      "Operation Number ! 4\n",
      "Your  Result of 6 / 7 is: 0.8571428571428571\n"
     ]
    }
   ],
   "source": [
    "print(\"\\t\\t\\t\\t*************Calculator*************\")\n",
    "num =int(input(\"Enter 1st number : \"))\n",
    "num2=int(input(\"Enter 2nd number : \"))\n",
    "print(\"\\nChoose the Operation!!!\\n\")\n",
    "print(\"1. + \\n2. - \\n3. * \\n4. / \\n5. ^(power) \\n6. Any Character for exit\\n\")\n",
    "operation=input(\"Operation Number ! \")\n",
    "if operation=='1':\n",
    "    print(\"Your  Result of {0} + {1} is: {num3}\".format(num,num2,num3=num+num2))\n",
    "elif operation=='2':\n",
    "    print(\"Your  Result of {0} - {1} is: {num3}\".format(num,num2,num3=num-num2))\n",
    "elif operation=='3':\n",
    "    print(\"Your  Result of {0} * {1} is: {num3}\".format(num,num2,num3=num*num2))\n",
    "elif operation=='4':\n",
    "    print(\"Your  Result of {0} / {1} is: {num3}\".format(num,num2,num3=num/num2))\n",
    "elif operation=='5':\n",
    "    print(\"Your  Result of {0} ^ {1} is: {num3}\".format(num,num2,num3=num**num2))\n",
    "else:\n",
    "    print(\"\\t\\t\\t\\t*************Everything has end*************\")\n"
   ]
  },
  {
   "cell_type": "markdown",
   "id": "95c5a43c",
   "metadata": {},
   "source": [
    "# Question 2"
   ]
  },
  {
   "cell_type": "code",
   "execution_count": 107,
   "id": "b6e8cf13",
   "metadata": {},
   "outputs": [
    {
     "name": "stdout",
     "output_type": "stream",
     "text": [
      "Original list: ['1', 'orange', '2', '3', '4.6', 'apple', 4, True, 5.4]\n",
      "New ONe: ['1', '2', '3', 4]\n"
     ]
    }
   ],
   "source": [
    "mylist=['1','orange','2','3','4.6','apple',4, True,5.4]\n",
    "mynewList=[]\n",
    "for x in mylist:\n",
    "    try:\n",
    "        if isinstance(x, int) or x.isdigit():\n",
    "            if not isinstance(x,bool):\n",
    "                mynewList.append(x)\n",
    "    except AttributeError:\n",
    "        pass\n",
    "print(\"Original list: \"+str(mylist)+\"\\nNew ONe: \"+str(mynewList))"
   ]
  },
  {
   "cell_type": "markdown",
   "id": "6689b0f0",
   "metadata": {},
   "source": [
    "# Question 3"
   ]
  },
  {
   "cell_type": "code",
   "execution_count": 126,
   "id": "39d9de61",
   "metadata": {},
   "outputs": [
    {
     "name": "stdout",
     "output_type": "stream",
     "text": [
      "Original Dictionary\n",
      "{'Name': 'Unknown', 'Age': 22, 'Male': True, 'Address': 'Jamshoro', 'Education': 'Graduation'}\n",
      "Updated Dictionary\n",
      "{'Name': 'Unknown', 'Age': 22, 'Male': True, 'Address': 'Mithi', 'Education': 'Intermediate'}\n",
      "{'Name': 'Unknown', 'Age': 22, 'Male': True, 'Address': 'Jamshoro', 'Education': 'Graduation'}\n"
     ]
    }
   ],
   "source": [
    "print(\"Original Dictionary\")\n",
    "print(dic)\n",
    "dic={\"Name\":\"Unknown\",\"Age\":22,\"Male\":True}\n",
    "print(\"Updated Dictionary\")\n",
    "\n",
    "dic.update({\"Address\":\"Mithi\"})\n",
    "dic[\"Education\"]=\"Intermediate\"\n",
    "print(dic)\n",
    "dic.update({\"Address\":\"Jamshoro\"})\n",
    "dic[\"Education\"]=\"Graduation\"\n",
    "\n",
    "print(dic)"
   ]
  },
  {
   "cell_type": "markdown",
   "id": "cd157ed3",
   "metadata": {},
   "source": [
    "# Question 4"
   ]
  },
  {
   "cell_type": "code",
   "execution_count": 152,
   "id": "4e9b53d8",
   "metadata": {},
   "outputs": [
    {
     "name": "stdout",
     "output_type": "stream",
     "text": [
      "102\n"
     ]
    }
   ],
   "source": [
    "\n",
    "dic={'Name': 'Unknown', 'Age': 22, 'Male': True, 'Address': 'Jamshoro', 'Education': 'Graduation',\"Marks\":80}\n",
    "temp=0\n",
    "for values in dic.values():\n",
    "    if isinstance(values,int) :\n",
    "        if not isinstance(values,bool):\n",
    "            temp+=values\n",
    "print(temp )"
   ]
  },
  {
   "cell_type": "markdown",
   "id": "2f0c715c",
   "metadata": {},
   "source": [
    "# Question 5"
   ]
  },
  {
   "cell_type": "code",
   "execution_count": 164,
   "id": "814be95a",
   "metadata": {},
   "outputs": [
    {
     "name": "stdout",
     "output_type": "stream",
     "text": [
      "Original List: ['persons', 4, 5, 4, 'persons', 3.4, 3.4, True, False, True]\n",
      "Duplicate items are: ['persons', 4, 3.4, True]\n"
     ]
    }
   ],
   "source": [
    "list=[\"persons\",4,5,4,\"persons\",3.4,3.4,True,False,True]\n",
    "newlist=[]\n",
    "for i in list:\n",
    "    temp=0\n",
    "    if i not in newlist:\n",
    "        for j in range(0,len(list)):\n",
    "                if i==list[j]:\n",
    "                    temp+=1\n",
    "        if temp!=1:\n",
    "            newlist.append(i)\n",
    "print(\"Original List: \"+str(list))\n",
    "print(\"Duplicate items are: \"+str(newlist))"
   ]
  },
  {
   "cell_type": "markdown",
   "id": "7e970a59",
   "metadata": {},
   "source": [
    "# Question 6"
   ]
  },
  {
   "cell_type": "code",
   "execution_count": 169,
   "id": "8f3a42c7",
   "metadata": {},
   "outputs": [
    {
     "name": "stdout",
     "output_type": "stream",
     "text": [
      "Enter a Key: Hobby\n",
      "Enter Value for ur KeyCricket\n",
      "{'Name': 'Unknown', 'Age': 22, 'Male': True, 'Address': 'Jamshoro', 'Education': 'Graduation', 'Marks': 80, 'Hobby': 'Cricket'}\n",
      "Success\n"
     ]
    }
   ],
   "source": [
    "dic={'Name': 'Unknown', 'Age': 22, 'Male': True, 'Address': 'Jamshoro', 'Education': 'Graduation',\"Marks\":80}\n",
    "\n",
    "key=input(\"Enter a Key: \")\n",
    "value=input(\"Enter Value for ur Key\")\n",
    "\n",
    "if key not in dic:\n",
    "    dic[key]=value\n",
    "    print(dic)\n",
    "    print(\"Successfully added !!!\")\n",
    "else:\n",
    "    print(\"Duplicated !!!\")\n"
   ]
  }
 ],
 "metadata": {
  "kernelspec": {
   "display_name": "Python 3 (ipykernel)",
   "language": "python",
   "name": "python3"
  },
  "language_info": {
   "codemirror_mode": {
    "name": "ipython",
    "version": 3
   },
   "file_extension": ".py",
   "mimetype": "text/x-python",
   "name": "python",
   "nbconvert_exporter": "python",
   "pygments_lexer": "ipython3",
   "version": "3.9.7"
  }
 },
 "nbformat": 4,
 "nbformat_minor": 5
}
