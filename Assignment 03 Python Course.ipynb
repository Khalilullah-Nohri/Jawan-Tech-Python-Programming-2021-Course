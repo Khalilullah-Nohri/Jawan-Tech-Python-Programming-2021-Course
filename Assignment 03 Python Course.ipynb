{
 "cells": [
  {
   "cell_type": "markdown",
   "metadata": {},
   "source": [
    "# Assignment 03"
   ]
  },
  {
   "cell_type": "code",
   "execution_count": 20,
   "metadata": {},
   "outputs": [
    {
     "name": "stdout",
     "output_type": "stream",
     "text": [
      "Twinkle, twinkle, little star ,\n",
      "\tHow I wonder what you are!\n",
      "\t\tUp above the world so high,\n",
      "\t\tLike a diamond in the sky.\n",
      "Twinkle, twinkle, little star,\n",
      "\tHow I wonder what you are \n"
     ]
    }
   ],
   "source": [
    "# Code #01 \n",
    "print(\"Twinkle, twinkle, little star ,\\n\\tHow I wonder what you are!\\n\\t\\tUp above the world so high,\\n\\t\\tLike a diamond in the sky.\\nTwinkle, twinkle, little star,\\n\\tHow I wonder what you are \")"
   ]
  },
  {
   "cell_type": "code",
   "execution_count": 21,
   "metadata": {},
   "outputs": [
    {
     "name": "stdout",
     "output_type": "stream",
     "text": [
      "Python version--> \n",
      "3.8.5 (default, Sep  3 2020, 21:29:08) [MSC v.1916 64 bit (AMD64)]\n"
     ]
    }
   ],
   "source": [
    "# Code #02\n",
    "import sys\n",
    "print(\"Python version--> \")\n",
    "print (sys.version)"
   ]
  },
  {
   "cell_type": "code",
   "execution_count": 22,
   "metadata": {},
   "outputs": [
    {
     "name": "stdout",
     "output_type": "stream",
     "text": [
      "Current date and time --> \n",
      "21:53:45 24-Oct-2021\n"
     ]
    }
   ],
   "source": [
    "# Code #03\n",
    "import datetime\n",
    "\n",
    "current_date_time = datetime.datetime.now()\n",
    "print (\"Current date and time --> \")\n",
    "print (current_date_time.strftime(\"%H:%M:%S %d-%h-%Y\"))"
   ]
  },
  {
   "cell_type": "code",
   "execution_count": 23,
   "metadata": {},
   "outputs": [
    {
     "name": "stdout",
     "output_type": "stream",
     "text": [
      "Enter the radius of a cirlce : 34\n",
      "Hence the area_of_circle is :  3637.932\n"
     ]
    }
   ],
   "source": [
    "# Code #04\n",
    "\n",
    "PI=3.147\n",
    "radius=input(\"Enter the radius of a cirlce : \")\n",
    "area_of_circle=int(radius)*int(radius)*PI\n",
    "print(\"Hence the area_of_circle is : \",area_of_circle)"
   ]
  },
  {
   "cell_type": "code",
   "execution_count": null,
   "metadata": {},
   "outputs": [],
   "source": [
    "# Code #05\n",
    "First_name=input(\"Enter ur First name : \")\n",
    "Last_name=input(\"Enter ur Last name : \")\n",
    "print(\"Ur lastname & first name is ==> \",Last_name,\" \",First_name)"
   ]
  },
  {
   "cell_type": "code",
   "execution_count": 24,
   "metadata": {},
   "outputs": [
    {
     "name": "stdout",
     "output_type": "stream",
     "text": [
      "Enter first Number 45\n",
      "Enter second Number 45\n",
      "Addition of two input numbers is =  90\n"
     ]
    }
   ],
   "source": [
    "# Code #06\n",
    "first_number=input(\"Enter first Number \")\n",
    "second_number=input(\"Enter second Number \")\n",
    "print(\"Addition of two input numbers is = \",int(second_number)+int(first_number))"
   ]
  },
  {
   "cell_type": "code",
   "execution_count": 2,
   "metadata": {},
   "outputs": [
    {
     "name": "stdout",
     "output_type": "stream",
     "text": [
      "Enter English Marks= 80\n",
      "Enter Islamiyat= 70\n",
      "Enter Maths Marks= 80\n",
      "Enter Java Marks= 70\n",
      "Enter AI Marks= 80\n",
      "Your Totals Marks:  380  And percentage is:  76.0\n",
      "Your Grade is: A\n"
     ]
    }
   ],
   "source": [
    "# Code #07\n",
    "English   =int(input(\"Enter English Marks= \"))\n",
    "Islamiyat =int(input(\"Enter Islamiyat= \"))\n",
    "Maths     =int(input(\"Enter Maths Marks= \"))\n",
    "Java      =int(input(\"Enter Java Marks= \"))\n",
    "AI        =int(input(\"Enter AI Marks= \"))\n",
    "\n",
    "\n",
    "totalMarks=(English+Islamiyat+Maths+Java+AI)\n",
    "percentage= (totalMarks/500)*100\n",
    "print(\"Your Totals Marks: \",totalMarks ,\" And percentage is: \",percentage)\n",
    "if(percentage>=80 and percentage<=100 ):\n",
    "    print(\"Your Grade is: A+\")\n",
    "elif(percentage>=70 and percentage<80 ):\n",
    "    print(\"Your Grade is: A\")\n",
    "elif(percentage>=60 and percentage<70 ):\n",
    "    print(\"Your Grade is: B\")\n",
    "elif(percentage>=50 and percentage<60 ):\n",
    "    print(\"Your Grade is: C\")\n",
    "elif(percentage>=40 and percentage<50 ):\n",
    "    print(\"Your Grade is: D\")\n",
    "elif(percentage>=33 and percentage<40 ):\n",
    "    print(\"Your Grade is: E\")\n",
    "elif(percentage>=0 and percentage<33 ):\n",
    "    print(\" Fail \")\n",
    "else:\n",
    "    print(\"Incorrect percentage\")"
   ]
  },
  {
   "cell_type": "code",
   "execution_count": 7,
   "metadata": {},
   "outputs": [
    {
     "name": "stdout",
     "output_type": "stream",
     "text": [
      "Enter any number: 59\n",
      "The Entered number is ODD...\n"
     ]
    }
   ],
   "source": [
    "# Code #08\n",
    "number=int(input(\"Enter any number: \"))\n",
    "if number%2==0:\n",
    "    print(\"The Entered number is Even ...\")\n",
    "else:\n",
    "    print(\"The Entered number is ODD...\")"
   ]
  },
  {
   "cell_type": "code",
   "execution_count": 16,
   "metadata": {},
   "outputs": [
    {
     "name": "stdout",
     "output_type": "stream",
     "text": [
      "The length is:  6\n",
      "The length is:  6\n"
     ]
    }
   ],
   "source": [
    "# Code #09\n",
    "list=[34,\"Names\",'A',34.5,True,False]\n",
    "# 1st method to find length\n",
    "print(\"The length is: \",len(list))\n",
    "\n",
    "# 2nd method to find length\n",
    "\n",
    "j=0\n",
    "for i in list:\n",
    "    j+=1\n",
    "print(\"The length is: \",j)\n",
    "    "
   ]
  },
  {
   "cell_type": "code",
   "execution_count": 26,
   "metadata": {},
   "outputs": [
    {
     "name": "stdout",
     "output_type": "stream",
     "text": [
      "The sum of list is :  54641.89\n"
     ]
    }
   ],
   "source": [
    "# Code #10\n",
    "list=[3,4,54545,89.89]\n",
    "print(\"The sum of list is : \",sum(list))"
   ]
  },
  {
   "cell_type": "code",
   "execution_count": 27,
   "metadata": {},
   "outputs": [
    {
     "name": "stdout",
     "output_type": "stream",
     "text": [
      "The Max: number from list is :  54545\n"
     ]
    }
   ],
   "source": [
    "# Code #11\n",
    "list=[3,4,54545,89.89]\n",
    "print(\"The Max: number from list is : \",max(list))"
   ]
  },
  {
   "cell_type": "code",
   "execution_count": 29,
   "metadata": {},
   "outputs": [
    {
     "name": "stdout",
     "output_type": "stream",
     "text": [
      "The number less than 5 are: \n",
      "1 1 2 3 "
     ]
    }
   ],
   "source": [
    "# Code #12\n",
    "a = [1, 1, 2, 3, 5, 8, 13, 21, 34, 55, 89]\n",
    "print(\"The number less than 5 are: \")\n",
    "for i in a:\n",
    "    if i <5:\n",
    "        print(i,end=\" \")"
   ]
  }
 ],
 "metadata": {
  "kernelspec": {
   "display_name": "Python 3",
   "language": "python",
   "name": "python3"
  },
  "language_info": {
   "codemirror_mode": {
    "name": "ipython",
    "version": 3
   },
   "file_extension": ".py",
   "mimetype": "text/x-python",
   "name": "python",
   "nbconvert_exporter": "python",
   "pygments_lexer": "ipython3",
   "version": "3.8.5"
  }
 },
 "nbformat": 4,
 "nbformat_minor": 4
}
