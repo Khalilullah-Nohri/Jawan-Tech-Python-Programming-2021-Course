{
 "metadata": {
  "language_info": {
   "codemirror_mode": {
    "name": "ipython",
    "version": 3
   },
   "file_extension": ".py",
   "mimetype": "text/x-python",
   "name": "python",
   "nbconvert_exporter": "python",
   "pygments_lexer": "ipython3",
   "version": "3.9.2-final"
  },
  "orig_nbformat": 2,
  "kernelspec": {
   "name": "python3",
   "display_name": "Python 3.9.2 64-bit",
   "metadata": {
    "interpreter": {
     "hash": "88f6ac7ebf2bd803a718cc75c4e00e207e3497ad3e425d1ca021f0547076b92a"
    }
   }
  }
 },
 "nbformat": 4,
 "nbformat_minor": 2,
 "cells": [
  {
   "cell_type": "code",
   "execution_count": null,
   "metadata": {},
   "outputs": [],
   "source": [
    "inputNumber=int(input('Enter a Number'))\n",
    "if inputNumber%2==0:\n",
    "    print('Entered Number', inputNumber , 'is Even')\n",
    "else:\n",
    "    print('Entered Number', inputNumber , ' is ODD')"
   ]
  },
  {
   "cell_type": "code",
   "execution_count": null,
   "metadata": {},
   "outputs": [],
   "source": [
    "Data=\"Assalam Alaikum, it's me Ustad... \"\n",
    "print('Original : ', Data)\n",
    "print('UpperCase: ', Data.upper() )\n",
    "print('LowerCase: ', Data.lower() )"
   ]
  }
 ]
}